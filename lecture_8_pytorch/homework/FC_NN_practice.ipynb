{
  "cells": [
    {
      "cell_type": "markdown",
      "metadata": {
        "colab_type": "text",
        "id": "view-in-github"
      },
      "source": [
        "<a href=\"https://colab.research.google.com/github/danon6868/BI-ml-2024/blob/main/lecture_8_pytorch/homework/FC_NN_practice.ipynb\" target=\"_parent\"><img src=\"https://colab.research.google.com/assets/colab-badge.svg\" alt=\"Open In Colab\"/></a>"
      ]
    },
    {
      "cell_type": "markdown",
      "metadata": {
        "id": "-pSGPQS8Btmc"
      },
      "source": [
        "Всем привет! Сегодня вы впервые попробуете написать свою собственную нейронную сеть и попробовать ее обучить. Мы будем работать с картинками, но пока что не совсем тем способом, которым лучше всего это делать, но должно получиться неплохо.\n",
        "\n",
        "Будем работать с [датасетом](https://github.com/rois-codh/kmnist) `Kuzushiji-MNIST` (`KMNIST`). Это рукописные буквы, изображения имеют размер (28, 28, 1) и разделены на 10 классов, по ссылке можно прочитать подробнее."
      ]
    },
    {
      "cell_type": "code",
      "execution_count": 2,
      "metadata": {
        "id": "75HVAP_RFU7r"
      },
      "outputs": [],
      "source": [
        "import numpy as np\n",
        "import torch\n",
        "import matplotlib.pyplot as plt\n",
        "from IPython.display import clear_output"
      ]
    },
    {
      "cell_type": "markdown",
      "metadata": {
        "id": "46iQ8ixtEruP"
      },
      "source": [
        "## Загрузка данных"
      ]
    },
    {
      "cell_type": "markdown",
      "metadata": {
        "id": "R6h1jVreJlV-"
      },
      "source": [
        "Сейчас мы будем использовать встроенные данные, но в реальности приходится писать свой класс для датасета (Dataset), у которого реализовывать несколько обязательных методов (напр, `__getitem__`), но это обсудим уже потом."
      ]
    },
    {
      "cell_type": "code",
      "execution_count": 4,
      "metadata": {
        "id": "s9L9Z02o_1bK"
      },
      "outputs": [],
      "source": [
        "import torchvision\n",
        "from torchvision.datasets import KMNIST\n",
        "\n",
        "\n",
        "# Превращает картинки в тензоры\n",
        "transform = torchvision.transforms.Compose(\n",
        "    [torchvision.transforms.ToTensor()])\n",
        "\n",
        "# Загрузим данные (в переменных лежат объекты типа `Dataset`)\n",
        "# В аргумент `transform` мы передаем необходимые трансформации (ToTensor)\n",
        "trainset = KMNIST(root=\"./KMNIST\", train=True, download=True, transform=transform)\n",
        "testset = KMNIST(root=\"./KMNIST\", train=False, download=True, transform=transform)\n",
        "\n",
        "clear_output()"
      ]
    },
    {
      "cell_type": "markdown",
      "metadata": {
        "id": "V83E2vDrO9CC"
      },
      "source": [
        "Определим даталоадеры, они нужны, чтобы реализовывать стохастический градиентный спуск (то есть мы не хотим считывать в оперативную память все картинки сразу, а делать это батчами)."
      ]
    },
    {
      "cell_type": "code",
      "execution_count": 5,
      "metadata": {
        "id": "oqC8XO8pO8Px"
      },
      "outputs": [],
      "source": [
        "from torch.utils.data import DataLoader\n",
        "\n",
        "\n",
        "# Можно оставить таким\n",
        "batch_size = 256\n",
        "\n",
        "trainloader = DataLoader(trainset, batch_size=batch_size, shuffle=True, num_workers=2)\n",
        "testloader = DataLoader(testset, batch_size=batch_size, shuffle=False, num_workers=2)"
      ]
    },
    {
      "cell_type": "markdown",
      "metadata": {
        "id": "-Ntp5sLoPyGx"
      },
      "source": [
        "Подумайте, как может влиять на скорость обучения параметр `batch_size`, почему вы так считаете?\n",
        "\n",
        "**Ответ:** думаю, что при меньших батчах обучение по скорости не сильно меняется (хотя, разумеется, зависит от признакового пространства. при большом количестве признаков меньшие батчи все же побыстрее, наверно), а вот качество ухудшается, так как модель получается менее генерализованная, и скорее всего, будет переобучаться на каждом батче"
      ]
    },
    {
      "cell_type": "markdown",
      "metadata": {
        "id": "t2vmM4KaHvrs"
      },
      "source": [
        "Посмотрим на какую-нибудь картинку:"
      ]
    },
    {
      "cell_type": "code",
      "execution_count": 6,
      "metadata": {
        "colab": {
          "base_uri": "https://localhost:8080/",
          "height": 266
        },
        "id": "N-b-kFCYAoOP",
        "outputId": "d077a35b-f874-40c2-e1da-1f461c11172f"
      },
      "outputs": [
        {
          "data": {
            "text/plain": [
              "Text(0.5, 1.0, 'Class is 8')"
            ]
          },
          "execution_count": 6,
          "metadata": {},
          "output_type": "execute_result"
        },
        {
          "data": {
            "image/png": "[encoded data removed]",
            "text/plain": [
              "<Figure size 640x480 with 1 Axes>"
            ]
          },
          "metadata": {},
          "output_type": "display_data"
        }
      ],
      "source": [
        "plt.imshow(trainset[0][0].view(28, 28).numpy(), cmap=\"gray\")\n",
        "plt.axis(\"off\")\n",
        "plt.title(f\"Class is {trainset[0][1]}\", fontsize=16)"
      ]
    },
    {
      "cell_type": "markdown",
      "metadata": {
        "id": "8_MSY231Hzz9"
      },
      "source": [
        "### Задание 1. Смотрим на картинки\n",
        "\n",
        "**2** балла\n",
        "\n",
        "Нарисуйте на одном графике изображения всех 10 классов:"
      ]
    },
    {
      "cell_type": "markdown",
      "metadata": {
        "id": "j0tNdHM5JS6l"
      },
      "source": [
        "⣿⣿⣿⣿⣿⣿⠿⢋⣥⣴⣶⣶⣶⣬⣙⠻⠟⣋⣭⣭⣭⣭⡙⠻⣿⣿⣿⣿⣿\n",
        "⣿⣿⣿⣿⡿⢋⣴⣿⣿⠿⢟⣛⣛⣛⠿⢷⡹⣿⣿⣿⣿⣿⣿⣆⠹⣿⣿⣿⣿\n",
        "⣿⣿⣿⡿⢁⣾⣿⣿⣴⣿⣿⣿⣿⠿⠿⠷⠥⠱⣶⣶⣶⣶⡶⠮⠤⣌⡙⢿⣿\n",
        "⣿⡿⢛⡁⣾⣿⣿⣿⡿⢟⡫⢕⣪⡭⠥⢭⣭⣉⡂⣉⡒⣤⡭⡉⠩⣥⣰⠂⠹\n",
        "⡟⢠⣿⣱⣿⣿⣿⣏⣛⢲⣾⣿⠃⠄⠐⠈⣿⣿⣿⣿⣿⣿⠄⠁⠃⢸⣿⣿⡧\n",
        "⢠⣿⣿⣿⣿⣿⣿⣿⣿⣇⣊⠙⠳⠤⠤⠾⣟⠛⠍⣹⣛⣛⣢⣀⣠⣛⡯⢉⣰\n",
        "⣿⣿⣿⣿⣿⣿⣿⣿⣿⣿⣿⣿⣷⡶⠶⢒⣠⣼⣿⣿⣛⠻⠛⢛⣛⠉⣴⣿⣿\n",
        "⣿⣿⣿⣿⣿⣿⣿⡿⢛⡛⢿⣿⣿⣶⣿⣿⣿⣿⣿⣿⣿⣿⣿⣿⣿⣷⡈⢿⣿\n",
        "⣿⣿⣿⣿⣿⣿⣿⠸⣿⡻⢷⣍⣛⠻⠿⠿⣿⣿⣿⣿⣿⣿⣿⣿⣿⠿⢇⡘⣿\n",
        "⣿⣿⣿⣿⣿⣿⣿⣷⣝⠻⠶⣬⣍⣛⣛⠓⠶⠶⠶⠤⠬⠭⠤⠶⠶⠞⠛⣡⣿\n",
        "⢿⣿⣿⣿⣿⣿⣿⣿⣿⣿⣷⣶⣬⣭⣍⣙⣛⣛⣛⠛⠛⠛⠿⠿⠿⠛⣠⣿⣿\n",
        "⣦⣈⠉⢛⠻⠿⠿⢿⣿⣿⣿⣿⣿⣿⣿⣿⣿⣿⣿⡿⠿⠛⣁⣴⣾⣿⣿⣿⣿\n",
        "⣿⣿⣿⣶⣮⣭⣁⣒⣒⣒⠂⠠⠬⠭⠭⠭⢀⣀⣠⣄⡘⠿⣿⣿⣿⣿⣿⣿⣿\n",
        "⣿⣿⣿⣿⣿⣿⣿⣿⣿⣿⣿⣿⣿⣿⣿⣿⣿⣿⣿⣿⣿⣦⡈⢿⣿⣿⣿⣿⣿\n",
        "\n",
        "\n",
        "\n"
      ]
    },
    {
      "cell_type": "code",
      "execution_count": 8,
      "metadata": {
        "id": "x3j6Bsu9AoT6"
      },
      "outputs": [
        {
          "data": {
            "image/png": "[encoded data removed]",
            "text/plain": [
              "<Figure size 1200x600 with 10 Axes>"
            ]
          },
          "metadata": {},
          "output_type": "display_data"
        }
      ],
      "source": [
        "images_per_class = [[] for img in range(10)]\n",
        "\n",
        "for image, label in trainset:\n",
        "    if len(images_per_class[label]) < 1:\n",
        "        images_per_class[label] = image.view(28, 28).numpy()\n",
        "\n",
        "plt.figure(figsize=(12, 6))\n",
        "for i in range(10):\n",
        "    plt.subplot(2, 5, i+1)\n",
        "    plt.imshow(images_per_class[i], cmap=\"gray\")\n",
        "    plt.title(f\"Class {i+1}\")\n",
        "    plt.axis(\"off\")\n",
        "plt.tight_layout()\n",
        "plt.show()"
      ]
    },
    {
      "cell_type": "markdown",
      "metadata": {
        "id": "dLCfnFW-JtGx"
      },
      "source": [
        "### Задание 2. Строим свой первый MLP\n",
        "\n",
        "**4** балла\n",
        "\n",
        "MLP (multilayer perceptron) или нейронная сеть из полносвязных (линейных) слоев, это мы уже знаем.\n",
        "\n",
        "Опишите структуру сети: 3 полносвязных слоя + функции активации на ваш выбор. **Подумайте** про активацию после последнего слоя!\n",
        "\n",
        "Сеть на выходе 1 слоя должна иметь 256 признаков, на выходе из 2 128 признаков, на выходе из последнего столько, сколько у вас классов.\n",
        "\n",
        "https://pytorch.org/docs/stable/nn.html?highlight=activation#non-linear-activations-weighted-sum-nonlinearity"
      ]
    },
    {
      "cell_type": "code",
      "execution_count": 10,
      "metadata": {
        "id": "dhYBvQIXJdSz"
      },
      "outputs": [],
      "source": [
        "import torch.nn as nn\n",
        "\n",
        "class FCNet(nn.Module):\n",
        "    def __init__(self,\n",
        "                 input_size,\n",
        "                 hidden_size1,\n",
        "                 hidden_size2,\n",
        "                 num_classes,\n",
        "                 activation=nn.ReLU()):\n",
        "        super(FCNet, self).__init__()\n",
        "        self.fc1 = nn.Linear(input_size, hidden_size1)\n",
        "        self.fc2 = nn.Linear(hidden_size1, hidden_size2)\n",
        "        self.fc3 = nn.Linear(hidden_size2, num_classes)\n",
        "        self.activation = activation\n",
        "\n",
        "\n",
        "    def forward(self, x):\n",
        "        x = x.view(x.size(0), -1)\n",
        "        x = self.activation(self.fc1(x))\n",
        "        x = self.activation(self.fc2(x))\n",
        "        x = self.fc3(x)\n",
        "        return x\n",
        "    \n"
      ]
    },
    {
      "cell_type": "markdown",
      "metadata": {
        "id": "uI0R77EQNKef"
      },
      "source": [
        "Сколько обучаемых параметров у вашей модели (весов и смещений)?\n",
        "\n",
        "**Ответ:** сумма кол-ва весов и смещений каждого слоя. \n",
        "- для первого слоя: размер входного изображения (28*28) * веса для каждого признака (256), 256 смещение\n",
        "- для второго слоя: размер входа = выход предыдущего слоя (256) * веса для каждого нового признака (128), 128 смещение\n",
        "- для третьего слоя: размер входа = выход предыдущего слоя (128) * кол-во классов (10), 10 смещение\n",
        "\n",
        "всего получается 234_752 весов на всех слоях и смещений 394 "
      ]
    },
    {
      "cell_type": "code",
      "execution_count": null,
      "metadata": {
        "id": "MvGiuoykrzzJ"
      },
      "outputs": [],
      "source": []
    },
    {
      "cell_type": "markdown",
      "metadata": {
        "id": "iwGllji2M4lp"
      },
      "source": [
        "### Задание 3. Напишите код для обучения модели\n",
        "\n",
        "**5** баллов\n",
        "\n",
        "Можно (и нужно) подглядывать в код семинара по пайторчу. Вам нужно создать модель, определить функцию потерь и оптимизатор (начнем с `SGD`). Дальше нужно обучать модель, при помощи тренировочного `Dataloader'a` и считать лосс на тренировочном и тестовом `Dataloader'ах`."
      ]
    },
    {
      "cell_type": "markdown",
      "metadata": {
        "id": "Grv9xcybRfCX"
      },
      "source": [
        "Напишем функцию для рассчета `accuracy`:"
      ]
    },
    {
      "cell_type": "code",
      "execution_count": 11,
      "metadata": {
        "id": "9D2QPFe5JdVc"
      },
      "outputs": [],
      "source": [
        "def get_accuracy(model, dataloader):\n",
        "    \"\"\"\n",
        "    model - обученная нейронная сеть\n",
        "    dataloader - даталоадер, на котором вы хотите посчитать accuracy\n",
        "    \"\"\"\n",
        "    correct = 0\n",
        "    total = 0\n",
        "    with torch.no_grad(): # Тензоры внутри этого блока будут иметь requires_grad=False\n",
        "        for images, labels in dataloader:\n",
        "            outputs = model(images)\n",
        "            _, predicted = torch.max(outputs.data, 1)\n",
        "            total += labels.size(0)\n",
        "            correct += (predicted == labels).sum().item()\n",
        "    accuracy = correct / total\n",
        "\n",
        "    return accuracy"
      ]
    },
    {
      "cell_type": "markdown",
      "metadata": {
        "id": "D3EmoWJyTBkE"
      },
      "source": [
        "#### Основной цикл обучения\n",
        "\n",
        "Этот код можно (и зачастую нужно) выносить в отдельную функцию, но пока что можете это не делать, все по желанию)"
      ]
    },
    {
      "cell_type": "code",
      "execution_count": 15,
      "metadata": {
        "id": "uIZKSOdgUi3e"
      },
      "outputs": [],
      "source": [
        "# Создадим объект модели\n",
        "fc_net = FCNet(input_size=28 * 28,\n",
        "               hidden_size1=256,\n",
        "               hidden_size2=128,\n",
        "               num_classes=10)\n",
        "# Определим функцию потерь\n",
        "loss_function = nn.CrossEntropyLoss()\n",
        "# Создадим оптимизатор для нашей сети\n",
        "lr = 0.001 # скорость обучения\n",
        "optimizer = torch.optim.Adam(fc_net.parameters(), lr=3e-4)"
      ]
    },
    {
      "cell_type": "markdown",
      "metadata": {
        "id": "uKYzXFqoX_fd"
      },
      "source": [
        "Напишите цикл обучения. Для начала хватит 10 эпох. Какое значение `accuracy` на тестовой выборке удалось получить?"
      ]
    },
    {
      "cell_type": "code",
      "execution_count": 16,
      "metadata": {
        "id": "Ma2bshC6MxI6"
      },
      "outputs": [
        {
          "name": "stdout",
          "output_type": "stream",
          "text": [
            "[1,   100] loss: 1.359\n",
            "[1,   200] loss: 0.611\n",
            "[2,   100] loss: 0.472\n",
            "[2,   200] loss: 0.428\n",
            "[3,   100] loss: 0.367\n",
            "[3,   200] loss: 0.342\n",
            "[4,   100] loss: 0.306\n",
            "[4,   200] loss: 0.282\n",
            "[5,   100] loss: 0.258\n",
            "[5,   200] loss: 0.249\n",
            "[6,   100] loss: 0.222\n",
            "[6,   200] loss: 0.215\n",
            "[7,   100] loss: 0.190\n",
            "[7,   200] loss: 0.190\n",
            "[8,   100] loss: 0.168\n",
            "[8,   200] loss: 0.167\n",
            "[9,   100] loss: 0.147\n",
            "[9,   200] loss: 0.148\n",
            "[10,   100] loss: 0.131\n",
            "[10,   200] loss: 0.129\n"
          ]
        }
      ],
      "source": [
        "n_epochs = 10\n",
        "loss_history = []\n",
        "\n",
        "for epoch in range(n_epochs):\n",
        "    running_loss = 0.0\n",
        "    for i, data in enumerate(trainloader, 0):\n",
        "        inputs, labels = data\n",
        "\n",
        "        optimizer.zero_grad()\n",
        "\n",
        "        outputs = fc_net(inputs)\n",
        "        loss = loss_function(outputs, labels)\n",
        "        loss.backward()\n",
        "        optimizer.step()\n",
        "\n",
        "        running_loss += loss.item()\n",
        "        if i % 100 == 99:  # выводим каждые 100 шагов\n",
        "            print('[%d, %5d] loss: %.3f' %\n",
        "                  (epoch + 1, i + 1, running_loss / 100))\n",
        "            running_loss = 0.0"
      ]
    },
    {
      "cell_type": "code",
      "execution_count": 17,
      "metadata": {
        "id": "2cB5LRbrS3BN"
      },
      "outputs": [
        {
          "data": {
            "text/plain": [
              "0.8798"
            ]
          },
          "execution_count": 17,
          "metadata": {},
          "output_type": "execute_result"
        }
      ],
      "source": [
        "get_accuracy(fc_net, testloader)"
      ]
    },
    {
      "cell_type": "markdown",
      "metadata": {
        "id": "4HTJzBM8Yk1R"
      },
      "source": [
        "### Задание 4. Изучение влияния нормализации\n",
        "\n",
        "**3** балла\n",
        "\n",
        "Вы могли заметить, что мы забыли провести нормализацию наших данных, а для нейронных сетей это может быть очень критично.\n",
        "\n",
        "Нормализуйте данные.\n",
        "\n",
        "* Подсчитайте среднее значение и стандартное отклонение интенсивности пикселей для всех тренировочных данных\n",
        "* Нормализуйте данные с использованием этих параметров (используйте трансформацию `Normalize`)\n",
        "\n",
        "\n",
        "Оцените влияние нормировки данных."
      ]
    },
    {
      "cell_type": "code",
      "execution_count": 21,
      "metadata": {
        "id": "FHlDaYWGR6YA"
      },
      "outputs": [
        {
          "name": "stdout",
          "output_type": "stream",
          "text": [
            "0.1917621473589439 0.34834283034636876\n"
          ]
        }
      ],
      "source": [
        "train_data = trainset.data.numpy()\n",
        "\n",
        "mean = np.mean(train_data / 255)\n",
        "std = np.std(train_data / 255)\n",
        "print(mean, std)\n",
        "\n",
        "transform_with_norm = torchvision.transforms.Compose([\n",
        "                torchvision.transforms.ToTensor(),\n",
        "                torchvision.transforms.Normalize(mean, std)\n",
        "            ])\n",
        "\n",
        "trainset.transform = transform_with_norm\n",
        "testset.transform = transform_with_norm"
      ]
    },
    {
      "cell_type": "code",
      "execution_count": 22,
      "metadata": {
        "id": "Qj93J3X_R6aa"
      },
      "outputs": [],
      "source": [
        "fc_net = FCNet(input_size=28 * 28,\n",
        "               hidden_size1=256,\n",
        "               hidden_size2=128,\n",
        "               num_classes=10)\n",
        "loss_function = nn.CrossEntropyLoss()\n",
        "lr = 0.001\n",
        "optimizer = torch.optim.Adam(fc_net.parameters(), lr=3e-4)"
      ]
    },
    {
      "cell_type": "code",
      "execution_count": 23,
      "metadata": {
        "id": "VWZtYBCvAoWQ"
      },
      "outputs": [
        {
          "name": "stdout",
          "output_type": "stream",
          "text": [
            "[1,   100] loss: 1.028\n",
            "[1,   200] loss: 0.454\n",
            "[2,   100] loss: 0.318\n",
            "[2,   200] loss: 0.283\n",
            "[3,   100] loss: 0.226\n",
            "[3,   200] loss: 0.215\n",
            "[4,   100] loss: 0.176\n",
            "[4,   200] loss: 0.167\n",
            "[5,   100] loss: 0.137\n",
            "[5,   200] loss: 0.136\n",
            "[6,   100] loss: 0.110\n",
            "[6,   200] loss: 0.113\n",
            "[7,   100] loss: 0.089\n",
            "[7,   200] loss: 0.092\n",
            "[8,   100] loss: 0.071\n",
            "[8,   200] loss: 0.076\n",
            "[9,   100] loss: 0.060\n",
            "[9,   200] loss: 0.060\n",
            "[10,   100] loss: 0.047\n",
            "[10,   200] loss: 0.048\n"
          ]
        }
      ],
      "source": [
        "n_epochs = 10\n",
        "loss_history = []\n",
        "\n",
        "for epoch in range(n_epochs):\n",
        "    running_loss = 0.0\n",
        "    for i, data in enumerate(trainloader, 0):\n",
        "        inputs, labels = data\n",
        "\n",
        "        optimizer.zero_grad()\n",
        "\n",
        "        outputs = fc_net(inputs)\n",
        "        loss = loss_function(outputs, labels)\n",
        "        loss.backward()\n",
        "        optimizer.step()\n",
        "\n",
        "        running_loss += loss.item()\n",
        "        if i % 100 == 99:  # выводим каждые 100 шагов\n",
        "            print('[%d, %5d] loss: %.3f' %\n",
        "                  (epoch + 1, i + 1, running_loss / 100))\n",
        "            running_loss = 0.0\n"
      ]
    },
    {
      "cell_type": "code",
      "execution_count": 24,
      "metadata": {
        "id": "Gfbv9OIAAoYT"
      },
      "outputs": [
        {
          "data": {
            "text/plain": [
              "0.9015"
            ]
          },
          "execution_count": 24,
          "metadata": {},
          "output_type": "execute_result"
        }
      ],
      "source": [
        "get_accuracy(fc_net, testloader)"
      ]
    },
    {
      "cell_type": "markdown",
      "metadata": {
        "id": "RcIJvhWkcjlh"
      },
      "source": [
        "Как изменилась `accuracy` после нормализации?"
      ]
    },
    {
      "cell_type": "markdown",
      "metadata": {
        "id": "G1LHKF2PsZ4U"
      },
      "source": [
        "0.902 после против 0.880 до"
      ]
    },
    {
      "cell_type": "markdown",
      "metadata": {
        "id": "atcfzu4acxP2"
      },
      "source": [
        "### Задание 5. Изучение влияния функции активации\n",
        "\n",
        "**3** балла\n",
        "\n",
        "Исследуйте влияние функций активации на скорость обучения и точность предсказаний модели.\n",
        "\n",
        "Используйте три функции:\n",
        "\n",
        "* [Sigmoid](https://pytorch.org/docs/stable/nn.functional.html#sigmoid)\n",
        "* [GELU](https://pytorch.org/docs/stable/nn.functional.html#gelu)\n",
        "* [Tanh](https://pytorch.org/docs/stable/generated/torch.nn.Tanh.html#torch.nn.Tanh)"
      ]
    },
    {
      "cell_type": "code",
      "execution_count": 25,
      "metadata": {
        "id": "bAESPpjGa3M1"
      },
      "outputs": [],
      "source": [
        "activation_functions = {\n",
        "    \"Sigmoid\": torch.nn.functional.sigmoid,\n",
        "    \"GELU\": torch.nn.functional.gelu,\n",
        "    \"Tanh\": torch.tanh\n",
        "}\n",
        "\n",
        "models = {}\n",
        "for activation_name, activation_func in activation_functions.items():\n",
        "    models[activation_name] = FCNet(input_size=28 * 28,\n",
        "                                    hidden_size1=256,\n",
        "                                    hidden_size2=128,\n",
        "                                    num_classes=10,\n",
        "                                    activation=activation_func)\n"
      ]
    },
    {
      "cell_type": "code",
      "execution_count": 27,
      "metadata": {},
      "outputs": [
        {
          "name": "stdout",
          "output_type": "stream",
          "text": [
            "Sigmoid Model: Epoch [1/10], Loss: 1.55224301891124\n",
            "Sigmoid Model: Epoch [2/10], Loss: 0.7626016946549111\n",
            "Sigmoid Model: Epoch [3/10], Loss: 0.5504590483421975\n",
            "Sigmoid Model: Epoch [4/10], Loss: 0.44744288502855506\n",
            "Sigmoid Model: Epoch [5/10], Loss: 0.3781401017878918\n",
            "Sigmoid Model: Epoch [6/10], Loss: 0.32442952927122726\n",
            "Sigmoid Model: Epoch [7/10], Loss: 0.2806415488745304\n",
            "Sigmoid Model: Epoch [8/10], Loss: 0.24580817254299814\n",
            "Sigmoid Model: Epoch [9/10], Loss: 0.21682140123336874\n",
            "Sigmoid Model: Epoch [10/10], Loss: 0.19156619031378563\n",
            "GELU Model: Epoch [1/10], Loss: 0.6642711070623804\n",
            "GELU Model: Epoch [2/10], Loss: 0.28698458988615805\n",
            "GELU Model: Epoch [3/10], Loss: 0.20523868469481774\n",
            "GELU Model: Epoch [4/10], Loss: 0.15740403999039468\n",
            "GELU Model: Epoch [5/10], Loss: 0.12313371874550555\n",
            "GELU Model: Epoch [6/10], Loss: 0.09890009924927924\n",
            "GELU Model: Epoch [7/10], Loss: 0.0804829200214528\n",
            "GELU Model: Epoch [8/10], Loss: 0.06391569238869434\n",
            "GELU Model: Epoch [9/10], Loss: 0.05198823537756788\n",
            "GELU Model: Epoch [10/10], Loss: 0.04063282561032696\n",
            "Tanh Model: Epoch [1/10], Loss: 0.7693687561978685\n",
            "Tanh Model: Epoch [2/10], Loss: 0.3827091142852256\n",
            "Tanh Model: Epoch [3/10], Loss: 0.2575606907935853\n",
            "Tanh Model: Epoch [4/10], Loss: 0.18455789406248863\n",
            "Tanh Model: Epoch [5/10], Loss: 0.1364957371290694\n",
            "Tanh Model: Epoch [6/10], Loss: 0.10240733682158146\n",
            "Tanh Model: Epoch [7/10], Loss: 0.07649345333747407\n",
            "Tanh Model: Epoch [8/10], Loss: 0.05753042999100178\n",
            "Tanh Model: Epoch [9/10], Loss: 0.04241667240065463\n",
            "Tanh Model: Epoch [10/10], Loss: 0.03066954114573433\n"
          ]
        }
      ],
      "source": [
        "n_epochs = 10\n",
        "loss_history = []\n",
        "\n",
        "for activation_name, model in models.items():\n",
        "    optimizer = torch.optim.Adam(model.parameters(), lr=3e-4)\n",
        "    for epoch in range(n_epochs):\n",
        "        running_loss = 0.0\n",
        "        for i, data in enumerate(trainloader, 0):\n",
        "            inputs, labels = data\n",
        "\n",
        "            optimizer.zero_grad()\n",
        "\n",
        "            outputs = model(inputs)\n",
        "            loss = loss_function(outputs, labels)\n",
        "            loss.backward()\n",
        "            optimizer.step()\n",
        "\n",
        "            running_loss += loss.item()\n",
        "        print(f\"{activation_name} Model: Epoch [{epoch + 1}/{n_epochs}], Loss: {running_loss / len(trainloader)}\")"
      ]
    },
    {
      "cell_type": "code",
      "execution_count": 28,
      "metadata": {
        "id": "zBok8pXNa2vA"
      },
      "outputs": [
        {
          "name": "stdout",
          "output_type": "stream",
          "text": [
            "Sigmoid Model Accuracy on Test Data: 0.8553\n",
            "GELU Model Accuracy on Test Data: 0.9039\n",
            "Tanh Model Accuracy on Test Data: 0.8936\n"
          ]
        }
      ],
      "source": [
        "for activation_name, model in models.items():\n",
        "    test_accuracy = get_accuracy(model, testloader)\n",
        "    print(f\"{activation_name} Model Accuracy on Test Data: {test_accuracy}\")\n"
      ]
    },
    {
      "cell_type": "markdown",
      "metadata": {
        "id": "aG2Oyxy2egVV"
      },
      "source": [
        "С использованием какой функции активации удалось досчить наибольшей `accuracy`?\n",
        " "
      ]
    },
    {
      "cell_type": "markdown",
      "metadata": {},
      "source": [
        "GELU"
      ]
    },
    {
      "cell_type": "markdown",
      "metadata": {
        "id": "20Ls3Bfsifqd"
      },
      "source": [
        "### Задание 6. Другие оптимизаторы\n",
        "\n",
        "**4** балла\n",
        "\n",
        "Исследуйте влияние оптимизаторов на скорость обучения и точность предсказаний модели.\n",
        "\n",
        "Попробуйте следующие:\n",
        "\n",
        "* [Adam](https://pytorch.org/docs/stable/generated/torch.optim.Adam.html#torch.optim.Adam)\n",
        "* [RMSprop](https://pytorch.org/docs/stable/generated/torch.optim.RMSprop.html#torch.optim.RMSprop)\n",
        "* [Adagrad](https://pytorch.org/docs/stable/generated/torch.optim.Adagrad.html#torch.optim.Adagrad)\n",
        "\n",
        "Вам нужно снова обучить 3 модели и сравнить их перформанс (функцию активации используйте ту, которая показала себя лучше всего)."
      ]
    },
    {
      "cell_type": "code",
      "execution_count": 34,
      "metadata": {
        "id": "rzL2LdA-ifJh"
      },
      "outputs": [],
      "source": [
        "models_optimizers = {\n",
        "    \"Adam\": torch.optim.Adam,\n",
        "    \"RMSprop\": torch.optim.RMSprop,\n",
        "    \"Adagrad\": torch.optim.Adagrad\n",
        "}\n",
        "\n",
        "models = {}\n",
        "for optimizer_name, optimizer_class in models_optimizers.items():\n",
        "    models[optimizer_name] = FCNet(input_size=28 * 28,\n",
        "                                    hidden_size1=256,\n",
        "                                    hidden_size2=128,\n",
        "                                    num_classes=10,\n",
        "                                    activation=torch.nn.functional.gelu)"
      ]
    },
    {
      "cell_type": "code",
      "execution_count": 37,
      "metadata": {},
      "outputs": [
        {
          "name": "stdout",
          "output_type": "stream",
          "text": [
            "Tanh Model: Epoch [1/10], Loss: 1.3708315128975725\n",
            "Tanh Model: Epoch [2/10], Loss: 0.8300141357361002\n",
            "Tanh Model: Epoch [3/10], Loss: 0.6960219748476718\n",
            "Tanh Model: Epoch [4/10], Loss: 0.6289115751043279\n",
            "Tanh Model: Epoch [5/10], Loss: 0.5867790700273311\n",
            "Tanh Model: Epoch [6/10], Loss: 0.5568451188980265\n",
            "Tanh Model: Epoch [7/10], Loss: 0.5338564181581457\n",
            "Tanh Model: Epoch [8/10], Loss: 0.514601432262583\n",
            "Tanh Model: Epoch [9/10], Loss: 0.4993644214691\n",
            "Tanh Model: Epoch [10/10], Loss: 0.48623900755922844\n",
            "Tanh Model: Epoch [1/10], Loss: 1.348146902246678\n",
            "Tanh Model: Epoch [2/10], Loss: 0.8085333220502163\n",
            "Tanh Model: Epoch [3/10], Loss: 0.6869509658914932\n",
            "Tanh Model: Epoch [4/10], Loss: 0.6255002021789551\n",
            "Tanh Model: Epoch [5/10], Loss: 0.5859790684060847\n",
            "Tanh Model: Epoch [6/10], Loss: 0.5576937060406868\n",
            "Tanh Model: Epoch [7/10], Loss: 0.5356179186638366\n",
            "Tanh Model: Epoch [8/10], Loss: 0.5175240809613085\n",
            "Tanh Model: Epoch [9/10], Loss: 0.501919689711104\n",
            "Tanh Model: Epoch [10/10], Loss: 0.48865067793967876\n",
            "Tanh Model: Epoch [1/10], Loss: 1.3531492342340186\n",
            "Tanh Model: Epoch [2/10], Loss: 0.8117209449727485\n",
            "Tanh Model: Epoch [3/10], Loss: 0.6847689714837581\n",
            "Tanh Model: Epoch [4/10], Loss: 0.6216606551028313\n",
            "Tanh Model: Epoch [5/10], Loss: 0.5819143494392963\n",
            "Tanh Model: Epoch [6/10], Loss: 0.5542183106249952\n",
            "Tanh Model: Epoch [7/10], Loss: 0.532682855839425\n",
            "Tanh Model: Epoch [8/10], Loss: 0.5155650634714898\n",
            "Tanh Model: Epoch [9/10], Loss: 0.5012074786297819\n",
            "Tanh Model: Epoch [10/10], Loss: 0.489129257709422\n"
          ]
        }
      ],
      "source": [
        "for optimizer_name, model in models.items():\n",
        "    optimizer = optimizer_class(model.parameters(), lr=3e-4)\n",
        "    for epoch in range(n_epochs):\n",
        "        running_loss = 0.0\n",
        "        for i, data in enumerate(trainloader, 0):\n",
        "            inputs, labels = data\n",
        "\n",
        "            optimizer.zero_grad()\n",
        "\n",
        "            outputs = model(inputs)\n",
        "            loss = loss_function(outputs, labels)\n",
        "            loss.backward()\n",
        "            optimizer.step()\n",
        "\n",
        "            running_loss += loss.item()\n",
        "        print(f\"{activation_name} Model: Epoch [{epoch + 1}/{n_epochs}], Loss: {running_loss / len(trainloader)}\")"
      ]
    },
    {
      "cell_type": "code",
      "execution_count": 38,
      "metadata": {},
      "outputs": [
        {
          "name": "stdout",
          "output_type": "stream",
          "text": [
            "Adam Optimizer Accuracy on Test Data: 0.7266\n",
            "RMSprop Optimizer Accuracy on Test Data: 0.7229\n",
            "Adagrad Optimizer Accuracy on Test Data: 0.7251\n"
          ]
        }
      ],
      "source": [
        "for optimizer_name, model in models.items():\n",
        "    test_accuracy = get_accuracy(model, testloader)\n",
        "    print(f\"{optimizer_name} Optimizer Accuracy on Test Data: {test_accuracy}\")"
      ]
    },
    {
      "cell_type": "markdown",
      "metadata": {},
      "source": [
        "Есть подозрение, что я сделал что-то не так, ибо Адам уже использовался изначально, а аккураси упала (вообще другая, причем достаточно сильно)"
      ]
    },
    {
      "cell_type": "markdown",
      "metadata": {
        "id": "eHA48PsperxS"
      },
      "source": [
        "### Задание 7. Реализация ReLU\n",
        "\n",
        "**4** балла\n",
        "\n",
        "Самостоятельно реализуйте функцию активации ReLU.\n",
        "Замените в уже обученной модели функцию активации на вашу. Убедитесь что ничего не изменилась."
      ]
    },
    {
      "cell_type": "code",
      "execution_count": 39,
      "metadata": {
        "id": "63uTkUp-a2xr"
      },
      "outputs": [],
      "source": [
        "class CustomReLU(nn.Module):\n",
        "    def __init__(self):\n",
        "        super().__init__()\n",
        "\n",
        "    def forward(self, x):\n",
        "        return torch.max(x, torch.tensor(0.0))\n"
      ]
    },
    {
      "cell_type": "markdown",
      "metadata": {
        "id": "xsKzxa33fhbN"
      },
      "source": [
        "Заново обучите модель и проверьте правильность реализации `CustomReLU`."
      ]
    },
    {
      "cell_type": "code",
      "execution_count": 40,
      "metadata": {
        "id": "ePP55RBeecYh"
      },
      "outputs": [
        {
          "name": "stdout",
          "output_type": "stream",
          "text": [
            "CustomReLu Model: Epoch [1/10], Loss: 0.6956274160679351\n",
            "CustomReLu Model: Epoch [2/10], Loss: 0.3092076695345818\n",
            "CustomReLu Model: Epoch [3/10], Loss: 0.22870569736399549\n",
            "CustomReLu Model: Epoch [4/10], Loss: 0.17896197295569358\n",
            "CustomReLu Model: Epoch [5/10], Loss: 0.14400240766241196\n",
            "CustomReLu Model: Epoch [6/10], Loss: 0.11689587246547355\n",
            "CustomReLu Model: Epoch [7/10], Loss: 0.09701061719592581\n",
            "CustomReLu Model: Epoch [8/10], Loss: 0.07894194557311687\n",
            "CustomReLu Model: Epoch [9/10], Loss: 0.06432124538783063\n",
            "CustomReLu Model: Epoch [10/10], Loss: 0.05256644182224223\n"
          ]
        }
      ],
      "source": [
        "model_with_custom_relu = FCNet(input_size=28 * 28,\n",
        "                               hidden_size1=256,\n",
        "                               hidden_size2=128,\n",
        "                               num_classes=10,\n",
        "                               activation=CustomReLU())\n",
        "loss_function = nn.CrossEntropyLoss()\n",
        "lr = 0.001\n",
        "optimizer = torch.optim.Adam(model_with_custom_relu.parameters(), lr=3e-4)\n",
        "\n",
        "n_epochs = 10\n",
        "loss_history = []\n",
        "\n",
        "for epoch in range(n_epochs):\n",
        "    running_loss = 0.0\n",
        "    for i, data in enumerate(trainloader, 0):\n",
        "        inputs, labels = data\n",
        "\n",
        "        optimizer.zero_grad()\n",
        "\n",
        "        outputs = model_with_custom_relu(inputs)\n",
        "        loss = loss_function(outputs, labels)\n",
        "        loss.backward()\n",
        "        optimizer.step()\n",
        "\n",
        "        running_loss += loss.item()\n",
        "    print(f\"CustomReLu Model: Epoch [{epoch + 1}/{n_epochs}], Loss: {running_loss / len(trainloader)}\")\n",
        "\n"
      ]
    },
    {
      "cell_type": "code",
      "execution_count": 41,
      "metadata": {},
      "outputs": [
        {
          "data": {
            "text/plain": [
              "0.9003"
            ]
          },
          "execution_count": 41,
          "metadata": {},
          "output_type": "execute_result"
        }
      ],
      "source": [
        "get_accuracy(model_with_custom_relu, testloader)"
      ]
    },
    {
      "cell_type": "markdown",
      "metadata": {
        "id": "vWBG1mMwgN17"
      },
      "source": [
        "### Задание 8. Генерация картинок\n",
        "\n",
        "**3** балла\n",
        "\n",
        "Придумайте 3 предложения и сгенерируйте при помощи них 3 картинки, используя телеграм бота [ruDALLE](https://t.me/sber_rudalle_xl_bot). Прикрепите сюда ваши картины."
      ]
    },
    {
      "cell_type": "markdown",
      "metadata": {},
      "source": []
    },
    {
      "cell_type": "markdown",
      "metadata": {},
      "source": []
    },
    {
      "cell_type": "markdown",
      "metadata": {},
      "source": []
    }
  ],
  "metadata": {
    "colab": {
      "authorship_tag": "ABX9TyN3ji5dthhFgQhP1CJ7JjiU",
      "include_colab_link": true,
      "provenance": []
    },
    "kernelspec": {
      "display_name": "Python 3",
      "name": "python3"
    },
    "language_info": {
      "codemirror_mode": {
        "name": "ipython",
        "version": 3
      },
      "file_extension": ".py",
      "mimetype": "text/x-python",
      "name": "python",
      "nbconvert_exporter": "python",
      "pygments_lexer": "ipython3",
      "version": "3.11.5"
    }
  },
  "nbformat": 4,
  "nbformat_minor": 0
}
